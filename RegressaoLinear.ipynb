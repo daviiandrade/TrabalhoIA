{
  "cells": [
    {
      "cell_type": "markdown",
      "metadata": {
        "id": "view-in-github",
        "colab_type": "text"
      },
      "source": [
        "<a href=\"https://colab.research.google.com/github/daviiandrade/TrabalhoIA/blob/main/RegressaoLinear.ipynb\" target=\"_parent\"><img src=\"https://colab.research.google.com/assets/colab-badge.svg\" alt=\"Open In Colab\"/></a>"
      ]
    },
    {
      "cell_type": "markdown",
      "metadata": {
        "id": "vFz3rE0O0SBw"
      },
      "source": [
        "[![Binder](https://mybinder.org/badge_logo.svg)](https://mybinder.org/v2/gh/storopoli/ciencia-de-dados/main?filepath=notebooks%2FAula_11_Regressao_Linear.ipynb)\n",
        "<br>\n",
        "[![Open In Colab](https://colab.research.google.com/assets/colab-badge.svg)](https://colab.research.google.com/github/storopoli/ciencia-de-dados/blob/main/notebooks/Aula_11_Regressao_Linear.ipynb)"
      ]
    },
    {
      "cell_type": "markdown",
      "metadata": {
        "id": "IvzRvDJZ0SB1"
      },
      "source": [
        "# Regressão Linear"
      ]
    },
    {
      "cell_type": "markdown",
      "metadata": {
        "id": "pXev-AKx0SB8"
      },
      "source": [
        "## Exemplo com o dataset [Boston House Prices](https://scikit-learn.org/stable/datasets/toy_dataset.html#boston-house-prices-dataset)\n",
        "\n",
        "\n",
        "* $N = 506$\n",
        "* Atributos: 13\n",
        "    * `CRIM` crime per capita da região\n",
        "    * `ZN` proporção de terra residencial\n",
        "    * `INDUS` proporção terra comercial não-varejista\n",
        "    * `CHAS` *Dummy* se fica as margens do Charles River (1 ou 0)\n",
        "    * `NOX` concentração de óxido nítrico (partes por 10 milhões)\n",
        "    * `RM` número de quartos\n",
        "    * `AGE` idade da residência\n",
        "    * `DIS` distância dos cinco centros de emprego de Boston\n",
        "    * `RAD` acessibilidade às rodovias radiais\n",
        "    * `TAX` valor do IPTU por 10,000 USD\n",
        "    * `PTRATIO` relação professor-aluno (*pupil-teacher ratio*) da região\n",
        "    * `B` proporção de afro-descendentes na região\n",
        "    * `LSTAT` porcentagem de população de baixa-renda\n",
        "* **Variável resposta**: valor da casa por 10,000 USD"
      ]
    },
    {
      "cell_type": "code",
      "execution_count": null,
      "metadata": {
        "id": "sCEFZmMZ0SB9"
      },
      "outputs": [],
      "source": [
        "from sklearn.datasets import load_boston\n",
        "\n",
        "boston = load_boston()\n",
        "X = boston['data']\n",
        "y = boston['target']"
      ]
    },
    {
      "cell_type": "code",
      "execution_count": null,
      "metadata": {
        "id": "b7My02tT0SB_"
      },
      "outputs": [],
      "source": [
        "print(f\"Nomes dos Atributos: {boston['feature_names']}\")\n",
        "print(f\"Tamanho de X: {X.shape}\")\n",
        "print(f\"Tamanho de y: {y.shape}\")"
      ]
    },
    {
      "cell_type": "markdown",
      "metadata": {
        "id": "7mJmJrPf0SCB"
      },
      "source": [
        "### Regressão Linear\n",
        "Usar o estimador do Scikit-Learn [`sklearn.linear_model.LinearRegression()`](https://scikit-learn.org/stable/modules/generated/sklearn.linear_model.LinearRegression.html)\n",
        "\n",
        "#### Retorna:\n",
        "* Objeto `estimator` do Scikit-Learn"
      ]
    },
    {
      "cell_type": "code",
      "execution_count": null,
      "metadata": {
        "id": "bwUcBMlh0SCB"
      },
      "outputs": [],
      "source": [
        "from sklearn.linear_model import LinearRegression\n",
        "\n",
        "clf = LinearRegression()"
      ]
    }
  ],
  "metadata": {
    "celltoolbar": "Slideshow",
    "kernelspec": {
      "display_name": "Python 3 (ipykernel)",
      "language": "python",
      "name": "python3"
    },
    "language_info": {
      "codemirror_mode": {
        "name": "ipython",
        "version": 3
      },
      "file_extension": ".py",
      "mimetype": "text/x-python",
      "name": "python",
      "nbconvert_exporter": "python",
      "pygments_lexer": "ipython3",
      "version": "3.9.13"
    },
    "rise": {
      "autolaunch": true,
      "enable_chalkboard": true,
      "progress": true,
      "scroll": true,
      "slideNumber": true,
      "theme": "black"
    },
    "colab": {
      "name": "RegressaoLinear.ipynb",
      "provenance": [],
      "collapsed_sections": [],
      "include_colab_link": true
    }
  },
  "nbformat": 4,
  "nbformat_minor": 0
}