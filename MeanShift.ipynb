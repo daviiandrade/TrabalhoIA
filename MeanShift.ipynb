{
  "cells": [
    {
      "cell_type": "markdown",
      "metadata": {
        "id": "view-in-github",
        "colab_type": "text"
      },
      "source": [
        "<a href=\"https://colab.research.google.com/github/daviiandrade/TrabalhoIA/blob/main/MeanShift.ipynb\" target=\"_parent\"><img src=\"https://colab.research.google.com/assets/colab-badge.svg\" alt=\"Open In Colab\"/></a>"
      ]
    },
    {
      "cell_type": "markdown",
      "metadata": {
        "id": "Q-wq6B3KuK9W"
      },
      "source": [
        "# Mean Shift"
      ]
    },
    {
      "cell_type": "code",
      "execution_count": null,
      "metadata": {
        "execution": {
          "iopub.execute_input": "2020-11-27T14:28:50.392261Z",
          "iopub.status.busy": "2020-11-27T14:28:50.390451Z",
          "iopub.status.idle": "2020-11-27T14:28:51.142399Z",
          "shell.execute_reply": "2020-11-27T14:28:51.141770Z"
        },
        "id": "fgd08uaKuK9c"
      },
      "outputs": [],
      "source": [
        "import math\n",
        "import operator\n",
        "\n",
        "import numpy as np\n",
        "import matplotlib.pyplot as plt\n",
        "\n",
        "import torch\n",
        "\n",
        "%matplotlib inline"
      ]
    },
    {
      "cell_type": "markdown",
      "metadata": {
        "id": "ye04DAIiuK9e"
      },
      "source": [
        "## Criando os dados"
      ]
    },
    {
      "cell_type": "code",
      "execution_count": null,
      "metadata": {
        "execution": {
          "iopub.execute_input": "2020-11-27T14:28:51.146324Z",
          "iopub.status.busy": "2020-11-27T14:28:51.145699Z",
          "iopub.status.idle": "2020-11-27T14:28:51.148155Z",
          "shell.execute_reply": "2020-11-27T14:28:51.147672Z"
        },
        "id": "d2XJD2W_uK9f"
      },
      "outputs": [],
      "source": [
        "n_clusters = 6\n",
        "n_samples = 1000"
      ]
    },
    {
      "cell_type": "code",
      "execution_count": null,
      "metadata": {
        "execution": {
          "iopub.execute_input": "2020-11-27T14:28:51.153067Z",
          "iopub.status.busy": "2020-11-27T14:28:51.152418Z",
          "iopub.status.idle": "2020-11-27T14:28:51.156074Z",
          "shell.execute_reply": "2020-11-27T14:28:51.155568Z"
        },
        "id": "o5J3qO4luK9g"
      },
      "outputs": [],
      "source": [
        "centroids = np.random.uniform(-35, 35, (n_clusters, 2))\n",
        "slices = [np.random.multivariate_normal(centroids[i], np.diag([5., 5.]), n_samples)\n",
        "          for i in range(n_clusters)]\n",
        "data = np.concatenate(slices).astype(np.float32)"
      ]
    },
    {
      "cell_type": "code",
      "execution_count": null,
      "metadata": {
        "execution": {
          "iopub.execute_input": "2020-11-27T14:28:51.185290Z",
          "iopub.status.busy": "2020-11-27T14:28:51.182857Z",
          "iopub.status.idle": "2020-11-27T14:28:51.473984Z",
          "shell.execute_reply": "2020-11-27T14:28:51.472308Z"
        },
        "id": "VZaQZ1cLuK9i"
      },
      "outputs": [],
      "source": [
        "def plot_data(centroids, data, n_samples):\n",
        "    colour = plt.cm.rainbow(np.linspace(0,1,len(centroids)))\n",
        "\n",
        "    fig, ax = plt.subplots(figsize=(4, 4))\n",
        "    for i, centroid in enumerate(centroids):\n",
        "        samples = data[i * n_samples : (i + 1) * n_samples]\n",
        "        ax.scatter(samples[:, 0], samples[:, 1], c=colour[i], s=1)\n",
        "        ax.plot(centroid[0], centroid[1], markersize=10, marker=\"x\", color='k', mew=5)\n",
        "        ax.plot(centroid[0], centroid[1], markersize=5, marker=\"x\", color='m', mew=2)\n",
        "    plt.axis('equal')\n",
        "    \n",
        "plot_data(centroids, data, n_samples)"
      ]
    },
    {
      "cell_type": "markdown",
      "metadata": {
        "id": "K2wXqNMRuK9k"
      },
      "source": [
        "## Implementação"
      ]
    },
    {
      "cell_type": "code",
      "execution_count": null,
      "metadata": {
        "execution": {
          "iopub.execute_input": "2020-11-27T14:28:51.484316Z",
          "iopub.status.busy": "2020-11-27T14:28:51.482603Z",
          "iopub.status.idle": "2020-11-27T14:28:51.489070Z",
          "shell.execute_reply": "2020-11-27T14:28:51.487291Z"
        },
        "id": "1EgupZuQuK9l"
      },
      "outputs": [],
      "source": [
        "from numpy import exp, sqrt, array"
      ]
    },
    {
      "cell_type": "code",
      "execution_count": null,
      "metadata": {
        "execution": {
          "iopub.execute_input": "2020-11-27T14:28:51.497091Z",
          "iopub.status.busy": "2020-11-27T14:28:51.496245Z",
          "iopub.status.idle": "2020-11-27T14:28:51.499903Z",
          "shell.execute_reply": "2020-11-27T14:28:51.498943Z"
        },
        "id": "TPyVeP5xuK9l"
      },
      "outputs": [],
      "source": [
        "def distance(x, X):\n",
        "    # return np.linalg.norm(x - X, axis=1)\n",
        "    return sqrt(((x - X)**2).sum(1))"
      ]
    },
    {
      "cell_type": "code",
      "execution_count": null,
      "metadata": {
        "execution": {
          "iopub.execute_input": "2020-11-27T14:28:51.505749Z",
          "iopub.status.busy": "2020-11-27T14:28:51.505188Z",
          "iopub.status.idle": "2020-11-27T14:28:51.508612Z",
          "shell.execute_reply": "2020-11-27T14:28:51.508041Z"
        },
        "id": "z_U0_I3cuK9m",
        "outputId": "9a424bf7-3346-4d20-d989-bb96fd872b80"
      },
      "outputs": [
        {
          "data": {
            "text/plain": [
              "array([0.        , 1.41421356, 5.38516481])"
            ]
          },
          "execution_count": 1,
          "metadata": {},
          "output_type": "execute_result"
        }
      ],
      "source": [
        "a = array([1, 2])\n",
        "b = array([[1, 2],\n",
        "           [2, 3],\n",
        "           [-1, -3]])\n",
        "\n",
        "dist = distance(a, b)\n",
        "dist"
      ]
    },
    {
      "cell_type": "code",
      "execution_count": null,
      "metadata": {
        "execution": {
          "iopub.execute_input": "2020-11-27T14:28:51.512738Z",
          "iopub.status.busy": "2020-11-27T14:28:51.512186Z",
          "iopub.status.idle": "2020-11-27T14:28:51.514805Z",
          "shell.execute_reply": "2020-11-27T14:28:51.516123Z"
        },
        "id": "EmFUoJJRuK9m"
      },
      "outputs": [],
      "source": [
        "def gaussian(dist, bandwidth):\n",
        "    return exp(-0.5 * ((dist / bandwidth))**2) / (bandwidth * math.sqrt(2 * math.pi))"
      ]
    },
    {
      "cell_type": "code",
      "execution_count": null,
      "metadata": {
        "execution": {
          "iopub.execute_input": "2020-11-27T14:28:51.527799Z",
          "iopub.status.busy": "2020-11-27T14:28:51.526077Z",
          "iopub.status.idle": "2020-11-27T14:28:51.535106Z",
          "shell.execute_reply": "2020-11-27T14:28:51.533402Z"
        },
        "id": "EMzxnzVHuK9m",
        "outputId": "c4290d85-38d5-4650-dbfa-ec94f60d7621"
      },
      "outputs": [
        {
          "data": {
            "text/plain": [
              "array([0.15957691, 0.13598247, 0.0156822 ])"
            ]
          },
          "execution_count": 1,
          "metadata": {},
          "output_type": "execute_result"
        }
      ],
      "source": [
        "gaussian(dist, 2.5)"
      ]
    },
    {
      "cell_type": "code",
      "execution_count": null,
      "metadata": {
        "execution": {
          "iopub.execute_input": "2020-11-27T14:28:51.547666Z",
          "iopub.status.busy": "2020-11-27T14:28:51.546475Z",
          "iopub.status.idle": "2020-11-27T14:28:51.551311Z",
          "shell.execute_reply": "2020-11-27T14:28:51.550415Z"
        },
        "id": "fb_41HIMuK9n"
      },
      "outputs": [],
      "source": [
        "def meanshift_step(X, bandwidth=2.5):\n",
        "    for i, x in enumerate(X):\n",
        "        dist = distance(x, X)\n",
        "        weight = gaussian(dist, bandwidth)\n",
        "        X[i] = (weight[:, None] * X).sum(0) / weight.sum()\n",
        "    return X"
      ]
    },
    {
      "cell_type": "markdown",
      "metadata": {
        "id": "JTvpvyBNuK9n"
      },
      "source": [
        "Dados antes:"
      ]
    },
    {
      "cell_type": "code",
      "execution_count": null,
      "metadata": {
        "execution": {
          "iopub.execute_input": "2020-11-27T14:28:51.570980Z",
          "iopub.status.busy": "2020-11-27T14:28:51.570468Z",
          "iopub.status.idle": "2020-11-27T14:28:51.867554Z",
          "shell.execute_reply": "2020-11-27T14:28:51.865649Z"
        },
        "id": "P_1m767GuK9o"
      },
      "outputs": [],
      "source": [
        "plot_data(centroids, data, n_samples)"
      ]
    },
    {
      "cell_type": "markdown",
      "metadata": {
        "id": "awpXhr89uK9o"
      },
      "source": [
        "Dados depois:"
      ]
    },
    {
      "cell_type": "code",
      "execution_count": null,
      "metadata": {
        "execution": {
          "iopub.execute_input": "2020-11-27T14:28:51.874529Z",
          "iopub.status.busy": "2020-11-27T14:28:51.873685Z",
          "iopub.status.idle": "2020-11-27T14:28:56.051576Z",
          "shell.execute_reply": "2020-11-27T14:28:56.049850Z"
        },
        "id": "q3U6zudUuK9o"
      },
      "outputs": [],
      "source": [
        "_X = meanshift_step(np.copy(data))\n",
        "plot_data(centroids, _X, n_samples)"
      ]
    },
    {
      "cell_type": "code",
      "execution_count": null,
      "metadata": {
        "execution": {
          "iopub.execute_input": "2020-11-27T14:28:56.061258Z",
          "iopub.status.busy": "2020-11-27T14:28:56.060412Z",
          "iopub.status.idle": "2020-11-27T14:28:56.064060Z",
          "shell.execute_reply": "2020-11-27T14:28:56.063200Z"
        },
        "id": "VKrooXN6uK9p"
      },
      "outputs": [],
      "source": [
        "def meanshift(X):\n",
        "    X = np.copy(X)\n",
        "    for _ in range(5):\n",
        "        X = meanshift_step(X)\n",
        "    return X"
      ]
    },
    {
      "cell_type": "code",
      "execution_count": null,
      "metadata": {
        "execution": {
          "iopub.execute_input": "2020-11-27T14:28:56.069215Z",
          "iopub.status.busy": "2020-11-27T14:28:56.068558Z",
          "iopub.status.idle": "2020-11-27T14:29:12.248115Z",
          "shell.execute_reply": "2020-11-27T14:29:12.247037Z"
        },
        "id": "S_KiII-guK9p",
        "outputId": "8d4beba6-3fbd-4447-9c92-12925d4512e2"
      },
      "outputs": [
        {
          "name": "stdout",
          "output_type": "stream",
          "text": [
            "CPU times: user 16.2 s, sys: 0 ns, total: 16.2 s\n",
            "Wall time: 16.2 s\n"
          ]
        }
      ],
      "source": [
        "%%time\n",
        "X = meanshift(data)"
      ]
    },
    {
      "cell_type": "code",
      "execution_count": null,
      "metadata": {
        "execution": {
          "iopub.execute_input": "2020-11-27T14:29:12.270345Z",
          "iopub.status.busy": "2020-11-27T14:29:12.268640Z",
          "iopub.status.idle": "2020-11-27T14:29:12.567063Z",
          "shell.execute_reply": "2020-11-27T14:29:12.566563Z"
        },
        "id": "4mjnqSY5uK9p"
      },
      "outputs": [],
      "source": [
        "plot_data(centroids, X, n_samples)"
      ]
    }
  ],
  "metadata": {
    "anaconda-cloud": {},
    "kernelspec": {
      "display_name": "Python 3",
      "language": "python",
      "name": "python3"
    },
    "language_info": {
      "codemirror_mode": {
        "name": "ipython",
        "version": 3
      },
      "file_extension": ".py",
      "mimetype": "text/x-python",
      "name": "python",
      "nbconvert_exporter": "python",
      "pygments_lexer": "ipython3",
      "version": "3.8.5"
    },
    "colab": {
      "name": "MeanShift.ipynb",
      "provenance": [],
      "include_colab_link": true
    }
  },
  "nbformat": 4,
  "nbformat_minor": 0
}