{
  "nbformat": 4,
  "nbformat_minor": 0,
  "metadata": {
    "colab": {
      "name": "RegressaoPolinomial.ipynb",
      "provenance": [],
      "collapsed_sections": [],
      "include_colab_link": true
    },
    "kernelspec": {
      "name": "python3",
      "display_name": "Python 3"
    }
  },
  "cells": [
    {
      "cell_type": "markdown",
      "metadata": {
        "id": "view-in-github",
        "colab_type": "text"
      },
      "source": [
        "<a href=\"https://colab.research.google.com/github/daviiandrade/TrabalhoIA/blob/main/RegressaoPolinomial.ipynb\" target=\"_parent\"><img src=\"https://colab.research.google.com/assets/colab-badge.svg\" alt=\"Open In Colab\"/></a>"
      ]
    },
    {
      "cell_type": "markdown",
      "metadata": {
        "id": "Lu3BM08H11zN"
      },
      "source": [
        "#Regressão polinomial\n"
      ]
    },
    {
      "cell_type": "code",
      "metadata": {
        "id": "Ew9pTLZ11jbi"
      },
      "source": [
        "import matplotlib.pyplot as plt\n",
        "import numpy as np\n",
        "import pandas as pd\n",
        "from sklearn.model_selection import train_test_split\n",
        "from sklearn.preprocessing import PolynomialFeatures\n",
        "from sklearn.linear_model import LinearRegression\n",
        "from sklearn.pipeline import Pipeline\n",
        "from sklearn.metrics import mean_squared_error\n",
        "import operator"
      ],
      "execution_count": null,
      "outputs": []
    },
    {
      "cell_type": "markdown",
      "metadata": {
        "id": "qMkHDxnE2RiZ"
      },
      "source": [
        "##Regressão polinomial\n",
        "\n",
        "Para gerar uma equação de ordem superior, podemos adicionar poderes dos recursos originais como novos recursos. O modelo linear,\n",
        "$Y = \\theta_0 + \\theta_1 x$, pode ser transformado em $Y = \\theta_0 + \\theta_1 x + \\theta_2 x^2$. \n",
        "\n",
        "Para usar um modelo de regressão polinomial, criou-se uma função chamada *polinomial* que cria, treina e testa um modelo de regressão polinomial e retorna o mse desse modelo. Esse modelo, diferente do modelo visto anteriormente, possui um hiperparâmetro, que é o grau do polinômio. "
      ]
    },
    {
      "cell_type": "code",
      "metadata": {
        "id": "7GL6DC9BbaBM"
      },
      "source": [
        "def polinomial(X_train, X_test, Y_train, Y_test, degree):\n",
        "  model = Pipeline([('poly', PolynomialFeatures(degree)), ('linear', LinearRegression(fit_intercept=False))])\n",
        "  model = model.fit(X_train, Y_train)\n",
        "  Y_hat = model.predict(X_test)\n",
        "  mse = mean_squared_error(Y_test, Y_hat)\n",
        "  return mse, Y_hat\n",
        "\n",
        "def plotar(X_test, Y_test, Y_hat):\n",
        "  plt.figure(figsize=(10,5))\n",
        "  plt.scatter(X_test, Y_test)\n",
        "  sort_axis = operator.itemgetter(0)\n",
        "  sorted_zip = sorted(zip(X_test,Y_hat), key=sort_axis)\n",
        "  X_test, Y_hat = zip(*sorted_zip)\n",
        "  xplot=np.linspace(0,1,100)\n",
        "  plt.plot(X_test, Y_hat, 'r--')\n",
        "  plt.show()"
      ],
      "execution_count": null,
      "outputs": []
    }
  ]
}