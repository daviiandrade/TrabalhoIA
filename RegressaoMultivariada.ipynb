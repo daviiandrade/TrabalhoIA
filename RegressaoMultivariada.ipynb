{
  "nbformat": 4,
  "nbformat_minor": 0,
  "metadata": {
    "colab": {
      "name": "RegressaoMultivariada",
      "provenance": [],
      "collapsed_sections": [],
      "include_colab_link": true
    },
    "kernelspec": {
      "name": "python3",
      "display_name": "Python 3"
    }
  },
  "cells": [
    {
      "cell_type": "markdown",
      "metadata": {
        "id": "view-in-github",
        "colab_type": "text"
      },
      "source": [
        "<a href=\"https://colab.research.google.com/github/daviiandrade/TrabalhoIA/blob/main/RegressaoMultivariada.ipynb\" target=\"_parent\"><img src=\"https://colab.research.google.com/assets/colab-badge.svg\" alt=\"Open In Colab\"/></a>"
      ]
    },
    {
      "cell_type": "markdown",
      "metadata": {
        "id": "Lu3BM08H11zN"
      },
      "source": [
        "# Regressão Multivariada "
      ]
    },
    {
      "cell_type": "code",
      "metadata": {
        "id": "Ew9pTLZ11jbi"
      },
      "source": [
        "#importando todas as bibliotecas necessárias no projeto\n",
        "\n",
        "\n",
        "import pandas as pd\n",
        "import numpy as np\n",
        "import seaborn as sns\n",
        "import matplotlib.pyplot as plt\n",
        "from   sklearn.linear_model import LinearRegression\n",
        "from   sklearn.metrics import r2_score\n",
        "import statsmodels.api as sm\n",
        "import os"
      ],
      "execution_count": null,
      "outputs": []
    },
    {
      "cell_type": "markdown",
      "metadata": {
        "id": "Vdqyzqmp5LMs"
      },
      "source": [
        "# Construindo o modelo:\n"
      ]
    },
    {
      "cell_type": "code",
      "metadata": {
        "id": "ODp5BeqLMoOw"
      },
      "source": [
        "Xs = df_dados.drop(['sales', 'Unnamed: 0'], axis=1)\n",
        "y = df_dados['sales'].reshape(-1,1)\n",
        "\n",
        "\n",
        "reg = LinearRegression()\n",
        "reg.fit(Xs, y)\n",
        "\n",
        "\n",
        "print(\"O modleo é: Vendas = {:.5} + {:.5}*TV + {:.5}*radio + {:.5}*newspaper\".format(reg.intercept"
      ],
      "execution_count": null,
      "outputs": []
    },
    {
      "cell_type": "markdown",
      "metadata": {
        "id": "hsT8ohwkswaa"
      },
      "source": [
        "## Analizando precisão do modelo:"
      ]
    },
    {
      "cell_type": "code",
      "metadata": {
        "id": "RXfMUXRGsv7y"
      },
      "source": [
        "X = np.column_stack((df_dados['TV'], df_dados['radio'], df_dados['newspaper']))\n",
        "y = df_dados['sales']\n",
        "\n",
        "\n",
        "X2 = sm.add_constant(X)\n",
        "est = sm.OLS(y, X2)\n",
        "est2 = est.fit()\n",
        "\n",
        "\n",
        "print(est2.summary())"
      ],
      "execution_count": null,
      "outputs": []
    }
  ]
}