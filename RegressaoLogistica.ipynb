{
  "cells": [
    {
      "cell_type": "markdown",
      "metadata": {
        "id": "view-in-github",
        "colab_type": "text"
      },
      "source": [
        "<a href=\"https://colab.research.google.com/github/daviiandrade/TrabalhoIA/blob/main/RegressaoLogistica.ipynb\" target=\"_parent\"><img src=\"https://colab.research.google.com/assets/colab-badge.svg\" alt=\"Open In Colab\"/></a>"
      ]
    },
    {
      "cell_type": "markdown",
      "metadata": {
        "id": "3CsftjYZpWvd"
      },
      "source": [
        "[![Binder](https://mybinder.org/badge_logo.svg)](https://mybinder.org/v2/gh/storopoli/ciencia-de-dados/main?filepath=notebooks%2FAula_12_Regressao_Logistica.ipynb)\n",
        "<br>\n",
        "[![Open In Colab](https://colab.research.google.com/assets/colab-badge.svg)](https://colab.research.google.com/github/storopoli/ciencia-de-dados/blob/main/notebooks/Aula_12_Regressao_Logistica.ipynb)"
      ]
    },
    {
      "cell_type": "markdown",
      "metadata": {
        "id": "dMqqXW-9pWvh"
      },
      "source": [
        "# Regressão Logística"
      ]
    },
    {
      "cell_type": "markdown",
      "metadata": {
        "id": "y7p66FW5pWvq"
      },
      "source": [
        "## Exemplo com o Dataset Titanic\n",
        "\n",
        "Contém 891 passageiros reais do Titanic que afundou em 15/04/1912 matando 1502 de 2224 passageiros e tripulação que estavam a bordo.\n",
        "\n",
        "* `survived`: *dummy* `0` ou `1` \n",
        "* `pclass`: Classe do Passageiro\n",
        "    - `1`: Primeira Classe\n",
        "    - `2`: Segunda Classe\n",
        "    - `3`: Terceira Classe\n",
        "* `sex`: Sexo `male` ou `female`\n",
        "* `age`: Idade\n",
        "* `sibsp`: Número de Irmãos (*Siblings*) e Esposas (*spouse*) a bordo\n",
        "* `parch`: Número de pais/filhos a bordo\n",
        "* `fare`: Valor pago pela passagem em libras\n",
        "* `embarked`: Porto que embarcou\n",
        "    - `C`: Cherbourg\n",
        "    - `Q`: Queenstown\n",
        "    - `S`: Southampton)\n",
        "* `class`: Mesmo que `pclass` só que em texto\n",
        "* `adult_male`: *dummy* para `age > 16` e `sex == 'male'`\n",
        "* `deck`: Qual deck a cabine do passageiro se situava\n",
        "* `alive`: Mesmo que survived só que com `yes` ou `no`\n",
        "* `alone`: *dummy* para se viajava sozinho"
      ]
    },
    {
      "cell_type": "code",
      "execution_count": null,
      "metadata": {
        "id": "8YBeFbvypWvq"
      },
      "outputs": [],
      "source": [
        "import seaborn as sns\n",
        "import pandas as pd\n",
        "titanic = sns.load_dataset('titanic')\n",
        "\n",
        "feature_names = ['pclass', 'female', 'age', 'fare']\n",
        "titanic['female'] = titanic['sex'].map({'male': 0, 'female': 1})\n",
        "titanic.dropna(subset=feature_names, inplace=True)  #891 para 714\n",
        "\n",
        "X = titanic[feature_names]\n",
        "y = titanic['survived']"
      ]
    },
    {
      "cell_type": "code",
      "execution_count": null,
      "metadata": {
        "scrolled": true,
        "id": "JO-nFFbrpWvr"
      },
      "outputs": [],
      "source": [
        "X  # DataFrame somente com as colunas de feature_names"
      ]
    },
    {
      "cell_type": "code",
      "execution_count": null,
      "metadata": {
        "scrolled": true,
        "id": "LhUesQcwpWvr"
      },
      "outputs": [],
      "source": [
        "y  # Series da coluna survived"
      ]
    },
    {
      "cell_type": "code",
      "execution_count": null,
      "metadata": {
        "id": "UI2I2Q26pWvr"
      },
      "outputs": [],
      "source": [
        "print('Nomes dos Atributos: ', feature_names, '\\n')\n",
        "print('Tamanho de X: ', X.shape, '\\n')\n",
        "print('Tamanho de y: ', y.shape, '\\n')"
      ]
    },
    {
      "cell_type": "markdown",
      "metadata": {
        "id": "1VdxS1hupWvt"
      },
      "source": [
        "### Regressão Logística\n",
        "Usar a classe do Scikit-Learn [`sklearn.linear_model.LogisticRegression()`](https://scikit-learn.org/stable/modules/generated/sklearn.linear_model.LogisticRegression.html)\n",
        "\n",
        "#### Argumentos:\n",
        "* `max_iter` - `int` - Número máximo de iterações do *Gradient Descent*\n",
        "    * padrão `100`\n",
        "* `random_state` - `int` - seed do gerador de número randômicos (replicabilidade)\n",
        "* `n_jobs` - `int` - Número de núcleos de processamento que será utilizado em paralelo\n",
        "    * `None` - padrão\n",
        "    * `-1` - usa todos os núcleos\n",
        "\n",
        "#### Retorna:\n",
        "* Objeto `estimator` do Scikit-Learn"
      ]
    },
    {
      "cell_type": "code",
      "execution_count": null,
      "metadata": {
        "id": "E_8RLxm3pWvu"
      },
      "outputs": [],
      "source": [
        "from sklearn.linear_model import LogisticRegression\n",
        "\n",
        "clf = LogisticRegression(n_jobs=-1, random_state=123)"
      ]
    }
  ],
  "metadata": {
    "celltoolbar": "Slideshow",
    "kernelspec": {
      "display_name": "Python 3 (ipykernel)",
      "language": "python",
      "name": "python3"
    },
    "language_info": {
      "codemirror_mode": {
        "name": "ipython",
        "version": 3
      },
      "file_extension": ".py",
      "mimetype": "text/x-python",
      "name": "python",
      "nbconvert_exporter": "python",
      "pygments_lexer": "ipython3",
      "version": "3.10.4"
    },
    "rise": {
      "autolaunch": true,
      "enable_chalkboard": true,
      "progress": true,
      "scroll": true,
      "slideNumber": true,
      "theme": "black"
    },
    "colab": {
      "name": "RegressaoLogistica.ipynb",
      "provenance": [],
      "include_colab_link": true
    }
  },
  "nbformat": 4,
  "nbformat_minor": 0
}