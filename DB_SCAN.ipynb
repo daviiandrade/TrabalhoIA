{
  "cells": [
    {
      "cell_type": "markdown",
      "metadata": {
        "id": "view-in-github",
        "colab_type": "text"
      },
      "source": [
        "<a href=\"https://colab.research.google.com/github/daviiandrade/TrabalhoIA/blob/main/DB_SCAN.ipynb\" target=\"_parent\"><img src=\"https://colab.research.google.com/assets/colab-badge.svg\" alt=\"Open In Colab\"/></a>"
      ]
    },
    {
      "cell_type": "markdown",
      "metadata": {
        "nbgrader": {
          "grade": false,
          "locked": true,
          "solution": false
        },
        "id": "1RASiHsNuYZr"
      },
      "source": [
        "# DB SCAN"
      ]
    },
    {
      "cell_type": "code",
      "execution_count": null,
      "metadata": {
        "id": "-AAKT2VQuYZx"
      },
      "outputs": [],
      "source": [
        "from IPython.display import display\n",
        "\n",
        "import numpy as np\n",
        "import pandas as pd\n",
        "import seaborn as sns\n",
        "\n",
        "%matplotlib inline\n",
        "import matplotlib.pyplot as plt\n",
        "\n",
        "def make_crater (inner_rad=4, outer_rad=4.5, donut_len=2, inner_pts=1000, outer_pts=500, label=False):\n",
        "\n",
        "    radius_core = inner_rad*np.random.random (inner_pts)\n",
        "    direction_core = 2*np.pi*np.random.random (size=inner_pts)\n",
        "\n",
        "    core_x = radius_core*np.cos (direction_core)\n",
        "    core_y = radius_core*np.sin (direction_core)\n",
        "    crater_core = pd.DataFrame ({'x_1': core_x, 'x_2': core_y})\n",
        "    if label: crater_core['label'] = 0\n",
        "\n",
        "    radius_ring = outer_rad + donut_len*np.random.random(outer_pts)\n",
        "    direction_ring = 2*np.pi*np.random.random(size = outer_pts)\n",
        "\n",
        "    ring_x = radius_ring*np.cos(direction_ring)\n",
        "    ring_y = radius_ring*np.sin(direction_ring)\n",
        "    crater_ring = pd.DataFrame ({'x_1': ring_x, 'x_2': ring_y})\n",
        "    if label: crater_ring['label'] = 1\n",
        "\n",
        "    return pd.concat ([crater_core, crater_ring])\n",
        "\n",
        "def make_scatter_plot (df, x=\"x_1\", y=\"x_2\", hue=\"label\",\n",
        "                       palette={0: \"red\", 1: \"olive\", 2: \"blue\", 3: \"green\"},\n",
        "                       size=5,\n",
        "                       centers=None):\n",
        "    if (hue is not None) and (hue in df.columns):\n",
        "        sns.lmplot (x=x, y=y, hue=hue, data=df, palette=palette,\n",
        "                    fit_reg=False)\n",
        "    else:\n",
        "        sns.lmplot (x=x, y=y, data=df, fit_reg=False)\n",
        "\n",
        "    if centers is not None:\n",
        "        plt.scatter (centers[:,0], centers[:,1],\n",
        "                     marker=u'*', s=500,\n",
        "                     c=[palette[0], palette[1]])\n",
        "\n",
        "def make_scatter_plot2 (df, x=\"x_1\", y=\"x_2\", hue=\"label\", size=5):\n",
        "    if (hue is not None) and (hue in df.columns):\n",
        "        sns.lmplot (x=x, y=y, hue=hue, data=df,\n",
        "                    fit_reg=False)\n",
        "    else:\n",
        "        sns.lmplot (x=x, y=y, data=df, fit_reg=False)"
      ]
    }
  ],
  "metadata": {
    "celltoolbar": "Create Assignment",
    "kernelspec": {
      "display_name": "Python 3",
      "language": "python",
      "name": "python3"
    },
    "language_info": {
      "codemirror_mode": {
        "name": "ipython",
        "version": 3
      },
      "file_extension": ".py",
      "mimetype": "text/x-python",
      "name": "python",
      "nbconvert_exporter": "python",
      "pygments_lexer": "ipython3",
      "version": "3.7.3"
    },
    "colab": {
      "name": "DB SCAN.ipynb",
      "provenance": [],
      "include_colab_link": true
    }
  },
  "nbformat": 4,
  "nbformat_minor": 0
}