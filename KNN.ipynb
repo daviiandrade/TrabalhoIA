{
  "nbformat": 4,
  "nbformat_minor": 0,
  "metadata": {
    "colab": {
      "name": "KNN",
      "provenance": [],
      "include_colab_link": true
    },
    "kernelspec": {
      "name": "python3",
      "display_name": "Python 3"
    }
  },
  "cells": [
    {
      "cell_type": "markdown",
      "metadata": {
        "id": "view-in-github",
        "colab_type": "text"
      },
      "source": [
        "<a href=\"https://colab.research.google.com/github/daviiandrade/TrabalhoIA/blob/main/KNN.ipynb\" target=\"_parent\"><img src=\"https://colab.research.google.com/assets/colab-badge.svg\" alt=\"Open In Colab\"/></a>"
      ]
    },
    {
      "cell_type": "markdown",
      "metadata": {
        "id": "TZBBa4y6VQbQ"
      },
      "source": [
        "# **Usando Machine Learning KNN (K-Nearest Neighbors)**\n",
        "\n"
      ]
    },
    {
      "cell_type": "markdown",
      "metadata": {
        "id": "B43pCr7AsxUs"
      },
      "source": [
        "> # **Treinamento e testes dos dados dataset**\n"
      ]
    },
    {
      "cell_type": "code",
      "metadata": {
        "id": "qvr0pNbu7sy7"
      },
      "source": [
        "train = iris.sample(frac=0.7, random_state=500) # random state is a seed value"
      ],
      "execution_count": null,
      "outputs": []
    },
    {
      "cell_type": "code",
      "metadata": {
        "id": "KEHlhB3R772O"
      },
      "source": [
        "test = iris.drop(train.index)"
      ],
      "execution_count": null,
      "outputs": []
    },
    {
      "cell_type": "code",
      "metadata": {
        "id": "c64drfqw86pU"
      },
      "source": [
        "X_train = train.drop(labels='species', axis=1)"
      ],
      "execution_count": null,
      "outputs": []
    },
    {
      "cell_type": "code",
      "metadata": {
        "id": "uixkCTrD9B8l"
      },
      "source": [
        "y_train = train.species"
      ],
      "execution_count": null,
      "outputs": []
    },
    {
      "cell_type": "code",
      "metadata": {
        "id": "O2Jw8Ki99CJp"
      },
      "source": [
        "X_test = test.drop(labels='species', axis=1)"
      ],
      "execution_count": null,
      "outputs": []
    },
    {
      "cell_type": "code",
      "metadata": {
        "id": "wX4Ue05o9CS4"
      },
      "source": [
        "y_test = test.species"
      ],
      "execution_count": null,
      "outputs": []
    },
    {
      "cell_type": "code",
      "metadata": {
        "id": "91pz99lGw1fa",
        "outputId": "41e12c4f-dffb-4fbc-a87c-2a7fe4ee1c36",
        "colab": {
          "base_uri": "https://localhost:8080/",
          "height": 225
        }
      },
      "source": [
        "print(X_train.head(),\"\\n\", y_train.head())"
      ],
      "execution_count": null,
      "outputs": [
        {
          "output_type": "stream",
          "text": [
            "     sepal_length  sepal_width  petal_length  petal_width\n",
            "7             5.0          3.4           1.5          0.2\n",
            "126           6.2          2.8           4.8          1.8\n",
            "136           6.3          3.4           5.6          2.4\n",
            "133           6.3          2.8           5.1          1.5\n",
            "66            5.6          3.0           4.5          1.5 \n",
            " 7          setosa\n",
            "126     virginica\n",
            "136     virginica\n",
            "133     virginica\n",
            "66     versicolor\n",
            "Name: species, dtype: object\n"
          ],
          "name": "stdout"
        }
      ]
    },
    {
      "cell_type": "code",
      "metadata": {
        "id": "fDM1Q5NdyWZ8",
        "outputId": "acc9415b-2a5e-4550-bad9-0e8c0bc7fda0",
        "colab": {
          "base_uri": "https://localhost:8080/",
          "height": 34
        }
      },
      "source": [
        "X_train.shape,X_test.shape"
      ],
      "execution_count": null,
      "outputs": [
        {
          "output_type": "execute_result",
          "data": {
            "text/plain": [
              "((105, 4), (45, 4))"
            ]
          },
          "metadata": {
            "tags": []
          },
          "execution_count": 155
        }
      ]
    },
    {
      "cell_type": "code",
      "metadata": {
        "id": "cK631326ys4z",
        "outputId": "6d9b8773-f1ca-44a5-fabb-21051bfb7b05",
        "colab": {
          "base_uri": "https://localhost:8080/",
          "height": 34
        }
      },
      "source": [
        "y_train.shape,y_test.shape"
      ],
      "execution_count": null,
      "outputs": [
        {
          "output_type": "execute_result",
          "data": {
            "text/plain": [
              "((105,), (45,))"
            ]
          },
          "metadata": {
            "tags": []
          },
          "execution_count": 156
        }
      ]
    },
    {
      "cell_type": "markdown",
      "metadata": {
        "id": "irXo83DWBfe1"
      },
      "source": [
        "> ## **Métricas**"
      ]
    },
    {
      "cell_type": "code",
      "metadata": {
        "id": "LABLiV84DHkR"
      },
      "source": [
        "from sklearn import metrics"
      ],
      "execution_count": null,
      "outputs": []
    },
    {
      "cell_type": "code",
      "metadata": {
        "id": "uUYhPtPjDWe9",
        "outputId": "086d492a-6c3b-4ac0-d9a3-2e1397b6dbad",
        "colab": {
          "base_uri": "https://localhost:8080/",
          "height": 190
        }
      },
      "source": [
        "print(metrics.classification_report(y_test,results,target_names=iris.species.unique(), digits=3))"
      ],
      "execution_count": null,
      "outputs": [
        {
          "output_type": "stream",
          "text": [
            "              precision    recall  f1-score   support\n",
            "\n",
            "      setosa      1.000     1.000     1.000        12\n",
            "  versicolor      1.000     0.909     0.952        22\n",
            "   virginica      0.846     1.000     0.917        11\n",
            "\n",
            "    accuracy                          0.956        45\n",
            "   macro avg      0.949     0.970     0.956        45\n",
            "weighted avg      0.962     0.956     0.956        45\n",
            "\n"
          ],
          "name": "stdout"
        }
      ]
    }
  ]
}